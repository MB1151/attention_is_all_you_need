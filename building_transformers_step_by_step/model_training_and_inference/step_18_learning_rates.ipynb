{
 "cells": [
  {
   "cell_type": "code",
   "execution_count": 1,
   "metadata": {},
   "outputs": [],
   "source": [
    "# In this notebook, you learn:\n",
    "#\n",
    "# 1) How is learning rate used in transformer model?\n",
    "#\n",
    "# Resources to go through before continuing further with this notebook:\n",
    "# 1) [LINK TO THE NOTEBOOK]\n",
    "#       -- Refer to Understanding_Pytorch/misceallaneous/learning_rates.ipynb notebook to understand how lr_scheduler\n",
    "#          is used with optimizers in pytorch.\n",
    "#       -- This also contains resources to understand about learning rate in general.\n",
    "# 2) https://nlp.seas.harvard.edu/annotated-transformer/#hardware-and-schedule\n",
    "#       -- Navigate to 'Hardware and Schedule' section to understand how learning rate is used in transformer model."
   ]
  },
  {
   "cell_type": "code",
   "execution_count": 2,
   "metadata": {},
   "outputs": [],
   "source": [
    "import matplotlib.pyplot as plt\n",
    "from torch import nn\n",
    "from typing import Optional\n",
    "\n",
    "\n",
    "import torch"
   ]
  },
  {
   "cell_type": "code",
   "execution_count": 13,
   "metadata": {},
   "outputs": [],
   "source": [
    "# Number of iterations to show the learning rate updates.\n",
    "num_iterations = 20000\n",
    "# Number of warmup steps.\n",
    "warmup_steps = 4000\n",
    "# Learning rate with which the training is started. This gets updated by the learning rate scheduler periodically.\n",
    "initial_learning_rate = 1.0\n",
    "# Hyperparameter to calculate the m1 moment in the optimizer. This roughly corresponds to averaging over the\n",
    "# last 10 (1/(1-beta_1)) sets of gradients. This comes from 'Gradient Descent with Momentum' algorithm.\n",
    "beta_1 = 0.9\n",
    "# Hyperparameter to calculate the m1 moment in the optimizer. This roughly corresponds to averaging over the\n",
    "# last 50 (1/(1-beta_2)) sets of gradients. This comes from 'RMS prop' algorithm.\n",
    "beta_2 = 0.98\n",
    "# Small value to avoid division by zero in the optimizer.\n",
    "epsilon = 1e-8\n",
    "# Number of input features for our toy neural network.\n",
    "in_features = 4\n",
    "# Number of output features for our toy neural network.\n",
    "out_features = 6\n",
    "# Number of samples in the dataset.\n",
    "num_samples = 2\n",
    "# Size of the embeddings (vectors) in the transformer model. I know this is not consistent with the defined in_features\n",
    "# out_features above. But this is just a toy example to understand how learning rate is used in transformer model.\n",
    "d_model = 512"
   ]
  },
  {
   "cell_type": "code",
   "execution_count": 14,
   "metadata": {},
   "outputs": [],
   "source": [
    "# In the transformer model, the learning rate is first increased linearly for the first warmup_steps, and then\n",
    "# decreased exponentially for the rest of the training steps. The learning rate is decreased in the later\n",
    "# part of the training to make the model converge to a better minima which is a standard technique. The learning\n",
    "# rate is increased in the beginning during the warmup phase. Apparently, the warmup phase is used to push the \n",
    "# parameters to regions where higher learning rates can be used to make the model converge faster. This is shown\n",
    "# to be true empirically using experimentation. I haven't gone through this paper (https://arxiv.org/abs//2406.09405), \n",
    "# but apparently it explains the benifits of using warmup phase with experimentation. Here is a \n",
    "# video (https://www.youtube.com/watch?v=a8yCq42IdI8) that explains the above paper. The video itself did not feel\n",
    "# very beginner friendly to me, but you can give it a try."
   ]
  },
  {
   "cell_type": "markdown",
   "metadata": {},
   "source": [
    "We use the following function to update the learning rate in the transformer.\n",
    "\n",
    "$learning\\_rate = factor * (\\frac{1}{d\\_model} * min(\\frac{1}{\\sqrt{step}}, \\frac{step}{warmup^{\\frac{3}{2}}}))$ \n",
    "\n",
    "where $d\\_model=512, warmup=4000$, $step$ is the number of iterations or updates to the weights, and factor just \n",
    "scales the learning rate.\n",
    "\n",
    "Ignoring the factor (setting it to 1) for now, we get:\n",
    "\n",
    "$learning\\_rate = \\frac{1}{\\sqrt{d\\_model}} * \\frac{1}{\\sqrt{step}} * min(1, \\frac{step}{warmup}^{\\frac{3}{2}})$\n",
    "\n",
    "$\\implies learning\\_rate(step) = \n",
    "\\begin{cases}\n",
    "\\frac{1}{d\\_model} * \\frac{1}{\\sqrt{warmup^{\\frac{3}{2}}}} * step & \\text{if } step \\lt warmup \\\\\n",
    "\\frac{1}{d\\_model} * \\frac{1}{\\sqrt{step}} & \\text{if } step \\geq warmup \\\\\n",
    "\\end{cases}$\n",
    "\n",
    "The case $(step \\lt warmup)$ corresponds to a line with slope $(\\frac{1}{d\\_model} * \\frac{1}{\\sqrt{warmup^{\\frac{3}{2}}}})$ and hence the learning_rate \n",
    "increases linearly during the warmup phase and then decreases exponentially after the warmup phase."
   ]
  },
  {
   "cell_type": "code",
   "execution_count": 15,
   "metadata": {},
   "outputs": [],
   "source": [
    "def rate(step: int, d_model: int, warmup_steps: int, factor: Optional[float] = 1.0) -> float:\n",
    "    \"\"\"This functions implements the above mentioned learning rate schedule. The learning rate is increased linearly\n",
    "       for the first warmup_steps, and then decreased exponentially for the rest of the training steps. step \n",
    "       corresponds to 'epoch' number in the adam_optimizer functionality in pytorch.\n",
    "\n",
    "    Args:\n",
    "        step (int): current epoch number in the training loop. starts from 0.\n",
    "        d_model (int): size of the vectors in the model. This is 512 in the original transformer model.\n",
    "        warmup_steps (int): number of steps to increase the learning rate linearly.\n",
    "        factor (Optional[float], optional): factor to scale the learning rate. Defaults to 1.0.\n",
    "\n",
    "    Returns:\n",
    "        float: returns the learning rate by which the initial learning rate should be scaled.\n",
    "    \"\"\"\n",
    "    if step == 0:\n",
    "        step = 1\n",
    "    return factor * (d_model ** (-0.5) * min(step ** (-0.5), step * warmup_steps ** (-1.5)))"
   ]
  },
  {
   "cell_type": "code",
   "execution_count": 16,
   "metadata": {},
   "outputs": [
    {
     "name": "stdout",
     "output_type": "stream",
     "text": [
      "linear_layer:  Linear(in_features=4, out_features=6, bias=True)\n",
      "------------------------------------------------------------------------------------------------------------------------------------------------------\n",
      "adam_optimizer_state:  {'state': {}, 'param_groups': [{'lr': 1.0, 'betas': (0.9, 0.98), 'eps': 1e-08, 'weight_decay': 0, 'amsgrad': False, 'maximize': False, 'foreach': None, 'capturable': False, 'differentiable': False, 'fused': None, 'params': [0, 1]}]}\n",
      "------------------------------------------------------------------------------------------------------------------------------------------------------\n",
      "rate_lambda:  <function <lambda> at 0x7f17bda3d900>\n",
      "------------------------------------------------------------------------------------------------------------------------------------------------------\n",
      "lr_scheduler_state:  {'base_lrs': [1.0], 'last_epoch': 0, 'verbose': False, '_step_count': 1, '_get_lr_called_within_step': False, '_last_lr': [1.746928107421711e-07], 'lr_lambdas': [None]}\n"
     ]
    }
   ],
   "source": [
    "# Setup work.\n",
    "# Create a simple linear layer which is our toy neural network to be passed to the optimizer.\n",
    "linear_layer = nn.Linear(in_features=in_features, out_features=out_features)\n",
    "print(\"linear_layer: \", linear_layer)\n",
    "print(\"-\" * 150)\n",
    "# Create an adam optimizer to experiment with.\n",
    "adam_optimizer = torch.optim.Adam(params=linear_layer.parameters(), lr=initial_learning_rate, betas=(beta_1, beta_2), eps=epsilon)\n",
    "print(\"adam_optimizer_state: \", adam_optimizer.state_dict())\n",
    "print(\"-\" * 150)\n",
    "rate_lambda = lambda step: rate(step, d_model=d_model, warmup_steps=warmup_steps, factor=1.0)\n",
    "print(\"rate_lambda: \", rate_lambda)\n",
    "print(\"-\" * 150)\n",
    "# Create a learning rate scheduler to experiment with.\n",
    "lr_scheduler = torch.optim.lr_scheduler.LambdaLR(optimizer=adam_optimizer, lr_lambda=rate_lambda)\n",
    "print(\"lr_scheduler_state: \", lr_scheduler.state_dict())\n"
   ]
  },
  {
   "cell_type": "code",
   "execution_count": 17,
   "metadata": {},
   "outputs": [
    {
     "name": "stdout",
     "output_type": "stream",
     "text": [
      "length:  20000\n"
     ]
    }
   ],
   "source": [
    "# Holds the learning rates to plot them later.\n",
    "learning_rates = []\n",
    "for step in range(num_iterations):\n",
    "    # Skip the training loop i.e., the forward and backward pass.\n",
    "    # Just update the learning rates.\n",
    "    learning_rates.append(adam_optimizer.param_groups[0]['lr'])\n",
    "    # This step is expected to be called before the lr_scheduler.step() function.\n",
    "    adam_optimizer.step()\n",
    "    # Updates the learning rate.\n",
    "    lr_scheduler.step()\n",
    "# Expect the size to be 20000.\n",
    "print(\"length: \", len(learning_rates))"
   ]
  },
  {
   "cell_type": "code",
   "execution_count": 18,
   "metadata": {},
   "outputs": [
    {
     "data": {
      "text/plain": [
       "Text(0, 0.5, 'learning rate')"
      ]
     },
     "execution_count": 18,
     "metadata": {},
     "output_type": "execute_result"
    },
    {
     "data": {
      "image/png": "[encoded data removed]",
      "text/plain": [
       "<Figure size 640x480 with 1 Axes>"
      ]
     },
     "metadata": {},
     "output_type": "display_data"
    }
   ],
   "source": [
    "# Notice that the learning rate is increased linearly for the first warmup_steps (4000 steps), and then decreased \n",
    "# exponentially for the rest of the training steps.\n",
    "x_axis_steps = list(range(num_iterations))\n",
    "plt.plot(x_axis_steps, learning_rates, linestyle='-', marker='o')\n",
    "plt.xlabel(\"steps\")\n",
    "plt.ylabel(\"learning rate\")"
   ]
  },
  {
   "cell_type": "code",
   "execution_count": 19,
   "metadata": {},
   "outputs": [
    {
     "name": "stdout",
     "output_type": "stream",
     "text": [
      "[0.0003132841919481785, 0.00031327632078271997, 0.00031326845021051314, 0.0003132605802314836, 0.00031325271084555687, 0.0003132448420526583, 0.00031323697385271347, 0.000313229106245648, 0.0003132212392313874, 0.0003132133728098571, 0.0003132055069809828, 0.0003131976417446901, 0.0003131897771009046, 0.00031318191304955176, 0.0003131740495905574, 0.000313166186723847, 0.00031315832444934636, 0.00031315046276698103, 0.0003131426016766768, 0.0003131347411783592, 0.00031312688127195406, 0.0003131190219573871, 0.0003131111632345839, 0.0003131033051034704, 0.00031309544756397226, 0.0003130875906160152, 0.0003130797342595251, 0.0003130718784944277, 0.00031306402332064885, 0.00031305616873811433, 0.00031304831474675, 0.0003130404613464817, 0.0003130326085372352, 0.00031302475631893653, 0.0003130169046915115, 0.000313009053654886, 0.0003130012032089859, 0.00031299335335373724, 0.00031298550408906584, 0.0003129776554148978, 0.00031296980733115887, 0.00031296195983777523, 0.0003129541129346728, 0.00031294626662177753, 0.0003129384208990155, 0.0003129305757663127, 0.00031292273122359517, 0.00031291488727078903, 0.00031290704390782027, 0.000312899201134615, 0.0003128913589510993, 0.00031288351735719936, 0.00031287567635284114, 0.00031286783593795095, 0.0003128599961124548, 0.0003128521568762789, 0.00031284431822934945, 0.0003128364801715926, 0.0003128286427029345, 0.0003128208058233015, 0.00031281296953261965, 0.00031280513383081534, 0.0003127972987178147, 0.0003127894641935441, 0.0003127816302579297, 0.0003127737969108979, 0.00031276596415237497, 0.00031275813198228714, 0.00031275030040056086, 0.00031274246940712235, 0.00031273463900189806, 0.0003127268091848143, 0.00031271897995579747, 0.00031271115131477394, 0.00031270332326167015, 0.0003126954957964125, 0.00031268766891892743, 0.0003126798426291413, 0.00031267201692698076, 0.00031266419181237207, 0.0003126563672852418, 0.0003126485433455165, 0.0003126407199931225, 0.00031263289722798654, 0.00031262507505003506, 0.00031261725345919456, 0.00031260943245539163, 0.0003126016120385529, 0.0003125937922086049, 0.00031258597296547413, 0.0003125781543090874, 0.00031257033623937117, 0.0003125625187562522, 0.0003125547018596571, 0.00031254688554951243, 0.000312539069825745, 0.00031253125468828143, 0.00031252344013704843, 0.0003125156261719727, 0.000312507812792981]\n",
      "0.0006987712429686843\n"
     ]
    }
   ],
   "source": [
    "print(learning_rates[19900:])\n",
    "print(max(learning_rates))"
   ]
  },
  {
   "cell_type": "code",
   "execution_count": null,
   "metadata": {},
   "outputs": [],
   "source": []
  }
 ],
 "metadata": {
  "kernelspec": {
   "display_name": ".attention_venv",
   "language": "python",
   "name": "python3"
  },
  "language_info": {
   "codemirror_mode": {
    "name": "ipython",
    "version": 3
   },
   "file_extension": ".py",
   "mimetype": "text/x-python",
   "name": "python",
   "nbconvert_exporter": "python",
   "pygments_lexer": "ipython3",
   "version": "3.10.12"
  }
 },
 "nbformat": 4,
 "nbformat_minor": 2
}
