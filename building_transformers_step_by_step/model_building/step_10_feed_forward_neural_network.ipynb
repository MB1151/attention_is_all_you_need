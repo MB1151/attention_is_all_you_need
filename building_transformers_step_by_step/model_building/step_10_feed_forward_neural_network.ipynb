{
 "cells": [
  {
   "cell_type": "code",
   "execution_count": 1,
   "metadata": {},
   "outputs": [],
   "source": [
    "# In this notebook, you will learn:\n",
    "#\n",
    "# 1) How to use the FeedForward Neural Network in Transformers?"
   ]
  },
  {
   "cell_type": "code",
   "execution_count": null,
   "metadata": {},
   "outputs": [],
   "source": [
    "import torch\n",
    "\n",
    "from torch import nn, Tensor"
   ]
  },
  {
   "cell_type": "code",
   "execution_count": null,
   "metadata": {},
   "outputs": [],
   "source": [
    "# In the transformer model, the output of Multi-Headed Attention layer is passed to a simple FeedForward Neural \n",
    "# Network. We will create a module for this layer and show the input transformation within this layer."
   ]
  },
  {
   "cell_type": "code",
   "execution_count": 4,
   "metadata": {},
   "outputs": [],
   "source": [
    "# Number of sentences in a batch\n",
    "batch_size = 2\n",
    "# Size of the input vector\n",
    "d_model = 8\n",
    "# Number of neurons in the intermediate layer of the Feed Forward Neural network\n",
    "d_feed_forward = 32"
   ]
  },
  {
   "cell_type": "markdown",
   "metadata": {},
   "source": [
    "In this notebook, we will just show how to create a FeedForward neural network in Pytorch and pass a random input <br>\n",
    "through the network."
   ]
  },
  {
   "cell_type": "code",
   "execution_count": null,
   "metadata": {},
   "outputs": [],
   "source": [
    "class FeedForwardNN(nn.Module):\n",
    "    def __init__(self, d_model: int, d_feed_forward: int, dropout_prob: float = 0.1):\n",
    "        super().__init__()\n",
    "        # This neural network will have two linear layers with a ReLU activation function in between them.\n",
    "        self.linear_layer_1 = nn.Linear(in_features=d_model, out_features=d_feed_forward)\n",
    "        self.linear_layer_2 = nn.Linear(in_features=d_feed_forward, out_features=d_model)\n",
    "        # We also just add a dropout layer to show how it can be used in the Feed Forward Neural Network.\n",
    "        self.dropout_layer = nn.Dropout(p=dropout_prob)\n",
    "\n",
    "    def forward(self, input: Tensor) -> Tensor:\n",
    "        \"\"\"Passes the input through the Feed Forward Neural Network and returns the output \n",
    "           of the neural network.\n",
    "\n",
    "        Args:\n",
    "            input (Tensor): The output of the Multi-Headed Attention layer.\n",
    "                            shape: [batch_size, seq_len, d_model]\n",
    "\n",
    "        Returns:\n",
    "            Tensor: The output of the Feed Forward Neural Network.\n",
    "                    shape: [batch_size, seq_len, d_model]\n",
    "        \"\"\"\n",
    "        # We first expand the input to higher dimension. We apply the ReLU activation function in this layer.\n",
    "        intermediate_output = self.linear_layer_1(input).relu()\n",
    "        # Dropout layer to prevent overfitting\n",
    "        intermediate_output = self.dropout_layer(intermediate_output)\n",
    "        # We then compress the input back to its original dimension. There is no specific intuitive explanation \n",
    "        # as to why this is done. It is just shown to be working practically in neural networks in general and \n",
    "        # in this paper in particular.\n",
    "        return self.linear_layer_2(intermediate_output)"
   ]
  },
  {
   "cell_type": "code",
   "execution_count": 8,
   "metadata": {},
   "outputs": [
    {
     "name": "stdout",
     "output_type": "stream",
     "text": [
      "FeedForwardNN(\n",
      "  (linear_layer_1): Linear(in_features=8, out_features=32, bias=True)\n",
      "  (linear_layer_2): Linear(in_features=32, out_features=8, bias=True)\n",
      "  (dropout_layer): Dropout(p=0.1, inplace=False)\n",
      ")\n"
     ]
    }
   ],
   "source": [
    "feed_forward_nn = FeedForwardNN(d_model=d_model, d_feed_forward=d_feed_forward, dropout_prob=0.1)\n",
    "print(feed_forward_nn)"
   ]
  },
  {
   "cell_type": "code",
   "execution_count": 5,
   "metadata": {},
   "outputs": [],
   "source": [
    "# Generating input to experiment with the FeedForward Neural Network\n",
    "def generate_batch_of_input_data(batch_size: int, seq_len: int, d_model: int) -> Tensor:\n",
    "    return torch.randn(batch_size, seq_len, d_model)"
   ]
  },
  {
   "cell_type": "code",
   "execution_count": 9,
   "metadata": {},
   "outputs": [
    {
     "name": "stdout",
     "output_type": "stream",
     "text": [
      "shape:  torch.Size([2, 3, 8])\n",
      "input:  tensor([[[ 0.9430,  0.6256, -0.3153, -1.1407, -1.0138, -2.4470,  0.5556,\n",
      "           0.0917],\n",
      "         [ 0.4587,  0.0568, -0.6081, -1.0623, -0.7745,  0.1406,  1.7913,\n",
      "          -1.2390],\n",
      "         [-2.2765,  0.4605,  0.3626,  0.0594,  0.0383,  0.1687,  1.0082,\n",
      "           0.2421]],\n",
      "\n",
      "        [[ 1.8294,  1.4184,  0.3092, -0.6906, -0.0684, -0.7176,  0.6720,\n",
      "          -1.5491],\n",
      "         [-0.8510, -0.7837,  0.1592, -0.3168,  0.7195, -0.3016, -1.9717,\n",
      "          -1.1617],\n",
      "         [-1.2917,  0.9663, -0.1424, -0.0375,  1.2998, -0.0973, -0.1307,\n",
      "           1.8511]]])\n"
     ]
    }
   ],
   "source": [
    "input = generate_batch_of_input_data(batch_size=batch_size, seq_len=3, d_model=8)\n",
    "print(\"shape: \", input.shape)\n",
    "print(\"input: \", input)"
   ]
  },
  {
   "cell_type": "code",
   "execution_count": null,
   "metadata": {},
   "outputs": [],
   "source": []
  }
 ],
 "metadata": {
  "kernelspec": {
   "display_name": ".attention_venv",
   "language": "python",
   "name": "python3"
  },
  "language_info": {
   "codemirror_mode": {
    "name": "ipython",
    "version": 3
   },
   "file_extension": ".py",
   "mimetype": "text/x-python",
   "name": "python",
   "nbconvert_exporter": "python",
   "pygments_lexer": "ipython3",
   "version": "3.10.12"
  }
 },
 "nbformat": 4,
 "nbformat_minor": 2
}
